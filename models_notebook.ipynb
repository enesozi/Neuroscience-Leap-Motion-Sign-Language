{
 "cells": [
  {
   "cell_type": "code",
   "execution_count": 2,
   "metadata": {},
   "outputs": [
    {
     "name": "stderr",
     "output_type": "stream",
     "text": [
      "/home/enes/anaconda3/lib/python3.7/site-packages/sklearn/ensemble/weight_boosting.py:29: DeprecationWarning: numpy.core.umath_tests is an internal NumPy module and should not be imported. It will be removed in a future NumPy release.\n",
      "  from numpy.core.umath_tests import inner1d\n"
     ]
    }
   ],
   "source": [
    "from sklearn.ensemble import RandomForestClassifier\n",
    "import pandas as pd\n",
    "from sklearn.model_selection import train_test_split\n",
    "from sklearn.metrics import confusion_matrix, accuracy_score\n",
    "from sklearn.svm import SVC"
   ]
  },
  {
   "cell_type": "code",
   "execution_count": 3,
   "metadata": {},
   "outputs": [
    {
     "data": {
      "text/html": [
       "<div>\n",
       "<style scoped>\n",
       "    .dataframe tbody tr th:only-of-type {\n",
       "        vertical-align: middle;\n",
       "    }\n",
       "\n",
       "    .dataframe tbody tr th {\n",
       "        vertical-align: top;\n",
       "    }\n",
       "\n",
       "    .dataframe thead th {\n",
       "        text-align: right;\n",
       "    }\n",
       "</style>\n",
       "<table border=\"1\" class=\"dataframe\">\n",
       "  <thead>\n",
       "    <tr style=\"text-align: right;\">\n",
       "      <th></th>\n",
       "      <th>attr0</th>\n",
       "      <th>attr1</th>\n",
       "      <th>attr10</th>\n",
       "      <th>attr11</th>\n",
       "      <th>attr12</th>\n",
       "      <th>attr13</th>\n",
       "      <th>attr14</th>\n",
       "      <th>attr15</th>\n",
       "      <th>attr16</th>\n",
       "      <th>attr17</th>\n",
       "      <th>...</th>\n",
       "      <th>attr55</th>\n",
       "      <th>attr56</th>\n",
       "      <th>attr57</th>\n",
       "      <th>attr58</th>\n",
       "      <th>attr59</th>\n",
       "      <th>attr6</th>\n",
       "      <th>attr7</th>\n",
       "      <th>attr8</th>\n",
       "      <th>attr9</th>\n",
       "      <th>label</th>\n",
       "    </tr>\n",
       "  </thead>\n",
       "  <tbody>\n",
       "    <tr>\n",
       "      <th>0</th>\n",
       "      <td>-28.078741</td>\n",
       "      <td>-33.102219</td>\n",
       "      <td>-11.285934</td>\n",
       "      <td>-55.467064</td>\n",
       "      <td>-18.698963</td>\n",
       "      <td>20.853622</td>\n",
       "      <td>-17.109612</td>\n",
       "      <td>-23.905125</td>\n",
       "      <td>-9.947266</td>\n",
       "      <td>-41.739864</td>\n",
       "      <td>...</td>\n",
       "      <td>-31.147964</td>\n",
       "      <td>-19.388859</td>\n",
       "      <td>3.427349</td>\n",
       "      <td>-32.970428</td>\n",
       "      <td>-4.637733</td>\n",
       "      <td>-34.235989</td>\n",
       "      <td>-10.999771</td>\n",
       "      <td>-36.119789</td>\n",
       "      <td>-24.479454</td>\n",
       "      <td>A</td>\n",
       "    </tr>\n",
       "    <tr>\n",
       "      <th>1</th>\n",
       "      <td>-27.188370</td>\n",
       "      <td>-33.396988</td>\n",
       "      <td>-11.918320</td>\n",
       "      <td>-54.489632</td>\n",
       "      <td>-19.096252</td>\n",
       "      <td>21.023575</td>\n",
       "      <td>-16.450127</td>\n",
       "      <td>-25.071028</td>\n",
       "      <td>-9.944946</td>\n",
       "      <td>-40.692688</td>\n",
       "      <td>...</td>\n",
       "      <td>-31.098404</td>\n",
       "      <td>-19.529282</td>\n",
       "      <td>3.211506</td>\n",
       "      <td>-32.988907</td>\n",
       "      <td>-4.611134</td>\n",
       "      <td>-35.601997</td>\n",
       "      <td>-11.083893</td>\n",
       "      <td>-35.368584</td>\n",
       "      <td>-25.439411</td>\n",
       "      <td>A</td>\n",
       "    </tr>\n",
       "    <tr>\n",
       "      <th>2</th>\n",
       "      <td>-28.299839</td>\n",
       "      <td>-31.300903</td>\n",
       "      <td>-14.482681</td>\n",
       "      <td>-53.193886</td>\n",
       "      <td>-18.344807</td>\n",
       "      <td>21.273041</td>\n",
       "      <td>-16.976151</td>\n",
       "      <td>-25.308964</td>\n",
       "      <td>-9.313583</td>\n",
       "      <td>-41.438503</td>\n",
       "      <td>...</td>\n",
       "      <td>-31.828354</td>\n",
       "      <td>-19.951521</td>\n",
       "      <td>1.842770</td>\n",
       "      <td>-33.410706</td>\n",
       "      <td>-5.161762</td>\n",
       "      <td>-33.762383</td>\n",
       "      <td>-11.485458</td>\n",
       "      <td>-35.284233</td>\n",
       "      <td>-21.936567</td>\n",
       "      <td>A</td>\n",
       "    </tr>\n",
       "    <tr>\n",
       "      <th>3</th>\n",
       "      <td>-28.520922</td>\n",
       "      <td>-30.162552</td>\n",
       "      <td>-8.071472</td>\n",
       "      <td>-54.272041</td>\n",
       "      <td>-18.439487</td>\n",
       "      <td>19.767334</td>\n",
       "      <td>-18.614567</td>\n",
       "      <td>-24.219011</td>\n",
       "      <td>-13.630142</td>\n",
       "      <td>-39.438927</td>\n",
       "      <td>...</td>\n",
       "      <td>-35.717682</td>\n",
       "      <td>-16.122189</td>\n",
       "      <td>10.490032</td>\n",
       "      <td>-38.959778</td>\n",
       "      <td>-0.587688</td>\n",
       "      <td>-35.226231</td>\n",
       "      <td>-8.306229</td>\n",
       "      <td>-34.155270</td>\n",
       "      <td>-27.173328</td>\n",
       "      <td>A</td>\n",
       "    </tr>\n",
       "    <tr>\n",
       "      <th>4</th>\n",
       "      <td>-28.918324</td>\n",
       "      <td>-30.329834</td>\n",
       "      <td>-10.956329</td>\n",
       "      <td>-54.959209</td>\n",
       "      <td>-18.164555</td>\n",
       "      <td>20.332703</td>\n",
       "      <td>-18.272774</td>\n",
       "      <td>-24.213734</td>\n",
       "      <td>-11.925491</td>\n",
       "      <td>-40.750877</td>\n",
       "      <td>...</td>\n",
       "      <td>-32.437271</td>\n",
       "      <td>-17.347183</td>\n",
       "      <td>2.929779</td>\n",
       "      <td>-32.878448</td>\n",
       "      <td>-2.351490</td>\n",
       "      <td>-35.931263</td>\n",
       "      <td>-10.332428</td>\n",
       "      <td>-35.078346</td>\n",
       "      <td>-27.331793</td>\n",
       "      <td>A</td>\n",
       "    </tr>\n",
       "  </tbody>\n",
       "</table>\n",
       "<p>5 rows × 61 columns</p>\n",
       "</div>"
      ],
      "text/plain": [
       "       attr0      attr1     attr10     attr11     attr12     attr13  \\\n",
       "0 -28.078741 -33.102219 -11.285934 -55.467064 -18.698963  20.853622   \n",
       "1 -27.188370 -33.396988 -11.918320 -54.489632 -19.096252  21.023575   \n",
       "2 -28.299839 -31.300903 -14.482681 -53.193886 -18.344807  21.273041   \n",
       "3 -28.520922 -30.162552  -8.071472 -54.272041 -18.439487  19.767334   \n",
       "4 -28.918324 -30.329834 -10.956329 -54.959209 -18.164555  20.332703   \n",
       "\n",
       "      attr14     attr15     attr16     attr17  ...       attr55     attr56  \\\n",
       "0 -17.109612 -23.905125  -9.947266 -41.739864  ...   -31.147964 -19.388859   \n",
       "1 -16.450127 -25.071028  -9.944946 -40.692688  ...   -31.098404 -19.529282   \n",
       "2 -16.976151 -25.308964  -9.313583 -41.438503  ...   -31.828354 -19.951521   \n",
       "3 -18.614567 -24.219011 -13.630142 -39.438927  ...   -35.717682 -16.122189   \n",
       "4 -18.272774 -24.213734 -11.925491 -40.750877  ...   -32.437271 -17.347183   \n",
       "\n",
       "      attr57     attr58    attr59      attr6      attr7      attr8      attr9  \\\n",
       "0   3.427349 -32.970428 -4.637733 -34.235989 -10.999771 -36.119789 -24.479454   \n",
       "1   3.211506 -32.988907 -4.611134 -35.601997 -11.083893 -35.368584 -25.439411   \n",
       "2   1.842770 -33.410706 -5.161762 -33.762383 -11.485458 -35.284233 -21.936567   \n",
       "3  10.490032 -38.959778 -0.587688 -35.226231  -8.306229 -34.155270 -27.173328   \n",
       "4   2.929779 -32.878448 -2.351490 -35.931263 -10.332428 -35.078346 -27.331793   \n",
       "\n",
       "   label  \n",
       "0      A  \n",
       "1      A  \n",
       "2      A  \n",
       "3      A  \n",
       "4      A  \n",
       "\n",
       "[5 rows x 61 columns]"
      ]
     },
     "execution_count": 3,
     "metadata": {},
     "output_type": "execute_result"
    }
   ],
   "source": [
    "data = pd.read_csv('train_data_last.csv')\n",
    "data.head()"
   ]
  },
  {
   "cell_type": "code",
   "execution_count": 4,
   "metadata": {},
   "outputs": [],
   "source": [
    " X_train, X_test, y_train, y_test = train_test_split(data.iloc[:,:-1], data.label, test_size=0.2, random_state=42)"
   ]
  },
  {
   "cell_type": "code",
   "execution_count": 5,
   "metadata": {},
   "outputs": [
    {
     "data": {
      "text/plain": [
       "RandomForestClassifier(bootstrap=True, class_weight=None, criterion='gini',\n",
       "            max_depth=3, max_features='auto', max_leaf_nodes=None,\n",
       "            min_impurity_decrease=0.0, min_impurity_split=None,\n",
       "            min_samples_leaf=1, min_samples_split=2,\n",
       "            min_weight_fraction_leaf=0.0, n_estimators=15, n_jobs=1,\n",
       "            oob_score=False, random_state=0, verbose=0, warm_start=False)"
      ]
     },
     "execution_count": 5,
     "metadata": {},
     "output_type": "execute_result"
    }
   ],
   "source": [
    "clf = RandomForestClassifier(n_estimators=15, max_depth=3, random_state=0)\n",
    "clf.fit(X_train,y_train)"
   ]
  },
  {
   "cell_type": "code",
   "execution_count": 6,
   "metadata": {},
   "outputs": [],
   "source": [
    "y_preds = clf.predict(X_train)"
   ]
  },
  {
   "cell_type": "code",
   "execution_count": 7,
   "metadata": {},
   "outputs": [
    {
     "data": {
      "text/plain": [
       "array([[165,   0,   3],\n",
       "       [  4, 154,   1],\n",
       "       [  2,   2, 149]])"
      ]
     },
     "execution_count": 7,
     "metadata": {},
     "output_type": "execute_result"
    }
   ],
   "source": [
    "confusion_matrix(y_train,y_preds)"
   ]
  },
  {
   "cell_type": "code",
   "execution_count": 8,
   "metadata": {},
   "outputs": [
    {
     "data": {
      "text/plain": [
       "0.975"
      ]
     },
     "execution_count": 8,
     "metadata": {},
     "output_type": "execute_result"
    }
   ],
   "source": [
    "accuracy_score(y_preds,y_train)"
   ]
  },
  {
   "cell_type": "code",
   "execution_count": 9,
   "metadata": {},
   "outputs": [],
   "source": [
    "y_preds = clf.predict(X_test)"
   ]
  },
  {
   "cell_type": "code",
   "execution_count": 10,
   "metadata": {},
   "outputs": [
    {
     "data": {
      "text/plain": [
       "array([[32,  0,  1],\n",
       "       [ 1, 43,  0],\n",
       "       [ 1,  1, 41]])"
      ]
     },
     "execution_count": 10,
     "metadata": {},
     "output_type": "execute_result"
    }
   ],
   "source": [
    "confusion_matrix(y_test,y_preds)"
   ]
  },
  {
   "cell_type": "code",
   "execution_count": 11,
   "metadata": {},
   "outputs": [
    {
     "data": {
      "text/plain": [
       "0.9666666666666667"
      ]
     },
     "execution_count": 11,
     "metadata": {},
     "output_type": "execute_result"
    }
   ],
   "source": [
    "accuracy_score(y_preds,y_test)"
   ]
  },
  {
   "cell_type": "code",
   "execution_count": 12,
   "metadata": {},
   "outputs": [
    {
     "data": {
      "text/plain": [
       "SVC(C=1.0, cache_size=200, class_weight=None, coef0=0.0,\n",
       "  decision_function_shape='ovr', degree=3, gamma='auto', kernel='rbf',\n",
       "  max_iter=-1, probability=False, random_state=None, shrinking=True,\n",
       "  tol=0.001, verbose=False)"
      ]
     },
     "execution_count": 12,
     "metadata": {},
     "output_type": "execute_result"
    }
   ],
   "source": [
    "svc = SVC()\n",
    "svc.fit(X_train,y_train)"
   ]
  },
  {
   "cell_type": "code",
   "execution_count": 13,
   "metadata": {},
   "outputs": [],
   "source": [
    "y_preds = svc.predict(X_train)"
   ]
  },
  {
   "cell_type": "code",
   "execution_count": 14,
   "metadata": {},
   "outputs": [
    {
     "data": {
      "text/plain": [
       "array([[168,   0,   0],\n",
       "       [  0, 159,   0],\n",
       "       [  0,   0, 153]])"
      ]
     },
     "execution_count": 14,
     "metadata": {},
     "output_type": "execute_result"
    }
   ],
   "source": [
    "confusion_matrix(y_train,y_preds)"
   ]
  },
  {
   "cell_type": "code",
   "execution_count": 15,
   "metadata": {},
   "outputs": [
    {
     "data": {
      "text/plain": [
       "1.0"
      ]
     },
     "execution_count": 15,
     "metadata": {},
     "output_type": "execute_result"
    }
   ],
   "source": [
    "accuracy_score(y_preds,y_train)"
   ]
  },
  {
   "cell_type": "code",
   "execution_count": 16,
   "metadata": {},
   "outputs": [],
   "source": [
    "y_preds = clf.predict(X_test)"
   ]
  },
  {
   "cell_type": "code",
   "execution_count": 17,
   "metadata": {},
   "outputs": [
    {
     "data": {
      "text/plain": [
       "array([[32,  0,  1],\n",
       "       [ 1, 43,  0],\n",
       "       [ 1,  1, 41]])"
      ]
     },
     "execution_count": 17,
     "metadata": {},
     "output_type": "execute_result"
    }
   ],
   "source": [
    "confusion_matrix(y_test,y_preds)"
   ]
  },
  {
   "cell_type": "code",
   "execution_count": 18,
   "metadata": {},
   "outputs": [
    {
     "data": {
      "text/plain": [
       "0.9666666666666667"
      ]
     },
     "execution_count": 18,
     "metadata": {},
     "output_type": "execute_result"
    }
   ],
   "source": [
    "accuracy_score(y_preds,y_test)"
   ]
  }
 ],
 "metadata": {
  "kernelspec": {
   "display_name": "Python 3",
   "language": "python",
   "name": "python3"
  },
  "language_info": {
   "codemirror_mode": {
    "name": "ipython",
    "version": 3
   },
   "file_extension": ".py",
   "mimetype": "text/x-python",
   "name": "python",
   "nbconvert_exporter": "python",
   "pygments_lexer": "ipython3",
   "version": "3.7.0"
  }
 },
 "nbformat": 4,
 "nbformat_minor": 2
}
